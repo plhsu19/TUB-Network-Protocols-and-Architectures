{
 "metadata": {
  "language_info": {
   "codemirror_mode": {
    "name": "ipython",
    "version": 3
   },
   "file_extension": ".py",
   "mimetype": "text/x-python",
   "name": "python",
   "nbconvert_exporter": "python",
   "pygments_lexer": "ipython3",
   "version": "3.7.3-final"
  },
  "orig_nbformat": 2,
  "kernelspec": {
   "name": "python3",
   "display_name": "Python 3"
  }
 },
 "nbformat": 4,
 "nbformat_minor": 2,
 "cells": [
  {
   "cell_type": "code",
   "execution_count": 7,
   "metadata": {},
   "outputs": [
    {
     "output_type": "stream",
     "name": "stdout",
     "text": [
      "Estimated_RTT_new after arrival of the 3rd packet:  39.96875 ms\n"
     ]
    }
   ],
   "source": [
    "# Estimation of Sample RTT\n",
    "a = 1/8.0\n",
    "sampleRTT1 = 40\n",
    "sampleRTT2 = 42\n",
    "sampleRTT3 = 38\n",
    "# Upon arrival of the 1st. packet:\n",
    "RTT_estimated = sampleRTT1\n",
    "# Upon arrival of the 2nd. packet:\n",
    "RTT_estimated = (1 - a) * RTT_estimated + a * sampleRTT2\n",
    "# Upon arrival of the 3rd. packet:\n",
    "RTT_estimated = (1 - a) * RTT_estimated + a * sampleRTT3\n",
    "\n",
    "print('Estimated_RTT_new after arrival of the 3rd packet: ', RTT_estimated, 'ms')"
   ]
  },
  {
   "cell_type": "code",
   "execution_count": null,
   "metadata": {},
   "outputs": [],
   "source": [
    "RTT_estimated2 = 0.8 * sampleRTT1 + 0.2 * sampleRTT2\n",
    "RTT_estimeatd3 = 0.8 * (0.8 * sampleRTT1 + 0.2 * sampleRTT2) + 0.2 * sampleRTT3\n",
    "RTT_estimated4 = 0.8 * (0.8 * (0.8 * sampleRTT1 + 0.2 * sampleRTT2) + 0.2 * sampleRTT3) + 0.2 * sampleRTT4\n",
    "# The exponential term is included in the RTT_estimated"
   ]
  }
 ]
}